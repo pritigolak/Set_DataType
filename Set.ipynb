{
 "cells": [
  {
   "cell_type": "markdown",
   "id": "fcb00956-6f14-443d-9776-8d82cdc41acf",
   "metadata": {},
   "source": [
    "# Set in Python :"
   ]
  },
  {
   "cell_type": "code",
   "execution_count": 2,
   "id": "b6b2d33c-61ee-401e-a098-3e2afb9879f6",
   "metadata": {},
   "outputs": [],
   "source": [
    "# A set is an unordered collection of unique elements. Unlike lists or tuples\n",
    "# Sets in python can be created using curly brackets '{}' or the built-in 'set()' function.\n",
    "# It does not allow duplicate values.\n",
    "# A set is mutable."
   ]
  },
  {
   "cell_type": "code",
   "execution_count": 8,
   "id": "48be422f-fd92-4cca-97ae-a0c2044d1d6b",
   "metadata": {},
   "outputs": [
    {
     "data": {
      "text/plain": [
       "{1, 2, 3, 4, 5, 12}"
      ]
     },
     "execution_count": 8,
     "metadata": {},
     "output_type": "execute_result"
    }
   ],
   "source": [
    "# Create a Set :\n",
    "\n",
    "Set = {1,2,3,4,5,3,1,4,12}\n",
    "Set"
   ]
  },
  {
   "cell_type": "code",
   "execution_count": 10,
   "id": "14cf1aff-de2c-4844-9f9d-bd1002a9b23c",
   "metadata": {},
   "outputs": [
    {
     "data": {
      "text/plain": [
       "set"
      ]
     },
     "execution_count": 10,
     "metadata": {},
     "output_type": "execute_result"
    }
   ],
   "source": [
    "# To check type of set :\n",
    "\n",
    "type(Set)"
   ]
  },
  {
   "cell_type": "code",
   "execution_count": 14,
   "id": "663a878e-63bb-4468-bb29-cc7868b9c040",
   "metadata": {},
   "outputs": [
    {
     "data": {
      "text/plain": [
       "{}"
      ]
     },
     "execution_count": 14,
     "metadata": {},
     "output_type": "execute_result"
    }
   ],
   "source": [
    "# Empty Set :\n",
    " \n",
    "s = {}\n",
    "s"
   ]
  },
  {
   "cell_type": "code",
   "execution_count": 51,
   "id": "249fca7a-262b-49ee-9c2b-50b38aad5dd4",
   "metadata": {},
   "outputs": [
    {
     "name": "stdout",
     "output_type": "stream",
     "text": [
      "{50, 20, 40, 10, 30}\n",
      "{0, 80, 70, 90, 60}\n"
     ]
    }
   ],
   "source": [
    "# Creating a two sets :\n",
    "\n",
    "A = {10,20,30,40,50}\n",
    "B = {60,70,80,90,00}\n",
    "print(A)\n",
    "print(B)"
   ]
  },
  {
   "cell_type": "markdown",
   "id": "a71acd93-21dd-4ae4-8163-6b6b920fe90f",
   "metadata": {},
   "source": [
    "# Set Methods : "
   ]
  },
  {
   "cell_type": "code",
   "execution_count": 65,
   "id": "d5b70f47-9376-4c36-8760-8aa4e96f1011",
   "metadata": {},
   "outputs": [
    {
     "name": "stdout",
     "output_type": "stream",
     "text": [
      "{1, 2, 3, 4, 5, 6, 7}\n"
     ]
    }
   ],
   "source": [
    "# add()\t\n",
    "# Adds a single element to the set.\n",
    "# For Example ,\n",
    "\n",
    "A = {1, 2, 3, 5, 7, 4}\n",
    "A.add(6)\n",
    "print(A)"
   ]
  },
  {
   "cell_type": "code",
   "execution_count": 67,
   "id": "8232e732-2ab0-4ac6-ab84-a736cdc1e175",
   "metadata": {},
   "outputs": [
    {
     "name": "stdout",
     "output_type": "stream",
     "text": [
      "{1, 2, 3, 4, 5, 7, 9}\n"
     ]
    }
   ],
   "source": [
    "# update()\n",
    "# Adds multiple elements to the set.\n",
    "# For example ,\n",
    "\n",
    "U = {1, 2, 3, 5, 7, 4}\n",
    "U.update([4, 9])\n",
    "print(U)"
   ]
  },
  {
   "cell_type": "code",
   "execution_count": 69,
   "id": "0d858d90-803d-4e65-a83c-b14c74b609de",
   "metadata": {},
   "outputs": [
    {
     "name": "stdout",
     "output_type": "stream",
     "text": [
      "{1, 3, 4, 5, 7}\n"
     ]
    }
   ],
   "source": [
    "# remove()\n",
    "# Removes a specific element.\n",
    "# For example ,\n",
    "\n",
    "R = {1, 2, 3, 5, 7, 4}\n",
    "R.remove(2)\n",
    "print(R)"
   ]
  },
  {
   "cell_type": "code",
   "execution_count": 71,
   "id": "3d36eb83-b7e6-4db6-a324-44a8583b8256",
   "metadata": {},
   "outputs": [
    {
     "name": "stdout",
     "output_type": "stream",
     "text": [
      "set()\n"
     ]
    }
   ],
   "source": [
    "# clear()\n",
    "# Removes all elements from the set.\n",
    "# For example ,\n",
    "\n",
    "C = {1, 2, 3, 5, 7, 4}\n",
    "C.clear()\n",
    "print(C)"
   ]
  },
  {
   "cell_type": "code",
   "execution_count": 73,
   "id": "0092d4d6-02d5-4204-b407-d6ecb48a4c1f",
   "metadata": {},
   "outputs": [
    {
     "name": "stdout",
     "output_type": "stream",
     "text": [
      "{0, 1, 2, 3, 4, 5, 6, 7, 9}\n"
     ]
    }
   ],
   "source": [
    "# union() (|)\n",
    "# Returns a new set with elements from both sets.\n",
    "# For example ,\n",
    "\n",
    "a = {1, 2, 3, 4, 5, 6}\n",
    "b = {2, 3, 5, 7, 9, 0}\n",
    "print(a.union(b))"
   ]
  },
  {
   "cell_type": "code",
   "execution_count": 77,
   "id": "f35a1689-3833-458d-b453-c20184661989",
   "metadata": {},
   "outputs": [
    {
     "name": "stdout",
     "output_type": "stream",
     "text": [
      "{2, 3, 5}\n"
     ]
    }
   ],
   "source": [
    "# intersection() (&)\n",
    "# Returns a new set with common elements.\n",
    "# For example ,\n",
    "\n",
    "a = {1, 2, 3, 4, 5, 6}\n",
    "b = {2, 3, 5, 7, 9, 0}\n",
    "print(a.intersection(b))"
   ]
  },
  {
   "cell_type": "code",
   "execution_count": 79,
   "id": "219c0c5c-948a-417c-b0d2-e8f1f938a5ad",
   "metadata": {},
   "outputs": [
    {
     "data": {
      "text/plain": [
       "{1, 2, 3, 4, 5, 6}"
      ]
     },
     "execution_count": 79,
     "metadata": {},
     "output_type": "execute_result"
    }
   ],
   "source": [
    "# copy()\t\n",
    "# Return shallow copy\n",
    "# For example ,\n",
    "\n",
    "a = {1, 2, 3, 4, 5, 6}\n",
    "b = {2, 3, 5, 7, 9, 0}\n",
    "a.copy()\n",
    "a"
   ]
  },
  {
   "cell_type": "code",
   "execution_count": 81,
   "id": "ca9c4103-d9c9-4923-b05a-564d1e000366",
   "metadata": {},
   "outputs": [
    {
     "name": "stdout",
     "output_type": "stream",
     "text": [
      "{1, 3, 5}\n"
     ]
    }
   ],
   "source": [
    "# difference()\n",
    "# Returns elements in the first set but not in the second.\n",
    "# For example ,\n",
    "\n",
    "a = {1, 2, 3, 4, 5}\n",
    "b = {2, 4, 6, 7, 8}\n",
    "print(a.difference(b)) "
   ]
  },
  {
   "cell_type": "code",
   "execution_count": 83,
   "id": "90fc23f0-af32-46a4-93c5-92b267a7f763",
   "metadata": {},
   "outputs": [
    {
     "data": {
      "text/plain": [
       "{1, 2, 4, 5}"
      ]
     },
     "execution_count": 83,
     "metadata": {},
     "output_type": "execute_result"
    }
   ],
   "source": [
    "# discard()\t\n",
    "# Remove element \n",
    "# For example ,\n",
    "\n",
    "a = {1, 2, 3, 4, 5}\n",
    "a.discard(3)\n",
    "a"
   ]
  },
  {
   "cell_type": "code",
   "execution_count": null,
   "id": "0dfe7a34-d736-4a1b-bd91-1c0904ee6f12",
   "metadata": {},
   "outputs": [],
   "source": []
  }
 ],
 "metadata": {
  "kernelspec": {
   "display_name": "Python 3 (ipykernel)",
   "language": "python",
   "name": "python3"
  },
  "language_info": {
   "codemirror_mode": {
    "name": "ipython",
    "version": 3
   },
   "file_extension": ".py",
   "mimetype": "text/x-python",
   "name": "python",
   "nbconvert_exporter": "python",
   "pygments_lexer": "ipython3",
   "version": "3.12.4"
  }
 },
 "nbformat": 4,
 "nbformat_minor": 5
}
